{
 "cells": [
  {
   "cell_type": "code",
   "execution_count": 1,
   "id": "4cbada19",
   "metadata": {
    "_kg_hide-input": true,
    "_kg_hide-output": true,
    "execution": {
     "iopub.execute_input": "2023-12-13T23:18:33.119397Z",
     "iopub.status.busy": "2023-12-13T23:18:33.118646Z",
     "iopub.status.idle": "2023-12-13T23:18:46.064917Z",
     "shell.execute_reply": "2023-12-13T23:18:46.063780Z"
    },
    "papermill": {
     "duration": 12.960141,
     "end_time": "2023-12-13T23:18:46.067807",
     "exception": false,
     "start_time": "2023-12-13T23:18:33.107666",
     "status": "completed"
    },
    "tags": []
   },
   "outputs": [
    {
     "name": "stdout",
     "output_type": "stream",
     "text": [
      "Collecting lazypredict\r\n",
      "  Downloading lazypredict-0.2.12-py2.py3-none-any.whl (12 kB)\r\n",
      "Requirement already satisfied: click in /opt/conda/lib/python3.10/site-packages (from lazypredict) (8.1.7)\r\n",
      "Requirement already satisfied: scikit-learn in /opt/conda/lib/python3.10/site-packages (from lazypredict) (1.2.2)\r\n",
      "Requirement already satisfied: pandas in /opt/conda/lib/python3.10/site-packages (from lazypredict) (2.0.3)\r\n",
      "Requirement already satisfied: tqdm in /opt/conda/lib/python3.10/site-packages (from lazypredict) (4.66.1)\r\n",
      "Requirement already satisfied: joblib in /opt/conda/lib/python3.10/site-packages (from lazypredict) (1.3.2)\r\n",
      "Requirement already satisfied: lightgbm in /opt/conda/lib/python3.10/site-packages (from lazypredict) (3.3.2)\r\n",
      "Requirement already satisfied: xgboost in /opt/conda/lib/python3.10/site-packages (from lazypredict) (2.0.2)\r\n",
      "Requirement already satisfied: wheel in /opt/conda/lib/python3.10/site-packages (from lightgbm->lazypredict) (0.41.2)\r\n",
      "Requirement already satisfied: numpy in /opt/conda/lib/python3.10/site-packages (from lightgbm->lazypredict) (1.24.3)\r\n",
      "Requirement already satisfied: scipy in /opt/conda/lib/python3.10/site-packages (from lightgbm->lazypredict) (1.11.4)\r\n",
      "Requirement already satisfied: threadpoolctl>=2.0.0 in /opt/conda/lib/python3.10/site-packages (from scikit-learn->lazypredict) (3.2.0)\r\n",
      "Requirement already satisfied: python-dateutil>=2.8.2 in /opt/conda/lib/python3.10/site-packages (from pandas->lazypredict) (2.8.2)\r\n",
      "Requirement already satisfied: pytz>=2020.1 in /opt/conda/lib/python3.10/site-packages (from pandas->lazypredict) (2023.3)\r\n",
      "Requirement already satisfied: tzdata>=2022.1 in /opt/conda/lib/python3.10/site-packages (from pandas->lazypredict) (2023.3)\r\n",
      "Requirement already satisfied: six>=1.5 in /opt/conda/lib/python3.10/site-packages (from python-dateutil>=2.8.2->pandas->lazypredict) (1.16.0)\r\n",
      "Installing collected packages: lazypredict\r\n",
      "Successfully installed lazypredict-0.2.12\r\n"
     ]
    }
   ],
   "source": [
    "!pip install lazypredict"
   ]
  },
  {
   "cell_type": "markdown",
   "id": "d68400bd",
   "metadata": {
    "papermill": {
     "duration": 0.008993,
     "end_time": "2023-12-13T23:18:46.086503",
     "exception": false,
     "start_time": "2023-12-13T23:18:46.077510",
     "status": "completed"
    },
    "tags": []
   },
   "source": [
    "## **Import Needed Libraries**"
   ]
  },
  {
   "cell_type": "code",
   "execution_count": 2,
   "id": "2b8527c7",
   "metadata": {
    "_cell_guid": "b1076dfc-b9ad-4769-8c92-a6c4dae69d19",
    "_uuid": "8f2839f25d086af736a60e9eeb907d3b93b6e0e5",
    "execution": {
     "iopub.execute_input": "2023-12-13T23:18:46.106679Z",
     "iopub.status.busy": "2023-12-13T23:18:46.106327Z",
     "iopub.status.idle": "2023-12-13T23:18:52.731573Z",
     "shell.execute_reply": "2023-12-13T23:18:52.730604Z"
    },
    "papermill": {
     "duration": 6.638153,
     "end_time": "2023-12-13T23:18:52.733925",
     "exception": false,
     "start_time": "2023-12-13T23:18:46.095772",
     "status": "completed"
    },
    "tags": []
   },
   "outputs": [
    {
     "name": "stderr",
     "output_type": "stream",
     "text": [
      "/opt/conda/lib/python3.10/site-packages/scipy/__init__.py:146: UserWarning: A NumPy version >=1.16.5 and <1.23.0 is required for this version of SciPy (detected version 1.24.3\n",
      "  warnings.warn(f\"A NumPy version >={np_minversion} and <{np_maxversion}\"\n",
      "/opt/conda/lib/python3.10/site-packages/dask/dataframe/_pyarrow_compat.py:23: UserWarning: You are using pyarrow version 11.0.0 which is known to be insecure. See https://www.cve.org/CVERecord?id=CVE-2023-47248 for further details. Please upgrade to pyarrow>=14.0.1 or install pyarrow-hotfix to patch your current version.\n",
      "  warnings.warn(\n"
     ]
    }
   ],
   "source": [
    "import numpy as np\n",
    "import pandas as pd\n",
    "import matplotlib.pyplot as plt\n",
    "import seaborn as sns\n",
    "import plotly_express as px\n",
    "\n",
    "from sklearn.preprocessing import LabelEncoder\n",
    "from sklearn.preprocessing import StandardScaler\n",
    "from sklearn.model_selection import train_test_split\n",
    "\n",
    "from xgboost import XGBClassifier\n",
    "from sklearn.ensemble import VotingClassifier\n",
    "from sklearn.linear_model import LogisticRegression\n",
    "from sklearn.svm import SVC\n",
    "from sklearn.tree import DecisionTreeClassifier\n",
    "from lazypredict.Supervised import LazyClassifier\n",
    "\n",
    "from sklearn.metrics import accuracy_score\n",
    "\n",
    "import warnings\n",
    "warnings.filterwarnings('ignore')"
   ]
  },
  {
   "cell_type": "markdown",
   "id": "cb9b1c25",
   "metadata": {
    "papermill": {
     "duration": 0.009289,
     "end_time": "2023-12-13T23:18:52.753150",
     "exception": false,
     "start_time": "2023-12-13T23:18:52.743861",
     "status": "completed"
    },
    "tags": []
   },
   "source": [
    "## **EDA**"
   ]
  },
  {
   "cell_type": "code",
   "execution_count": 3,
   "id": "591eb576",
   "metadata": {
    "execution": {
     "iopub.execute_input": "2023-12-13T23:18:52.773799Z",
     "iopub.status.busy": "2023-12-13T23:18:52.773464Z",
     "iopub.status.idle": "2023-12-13T23:18:52.809072Z",
     "shell.execute_reply": "2023-12-13T23:18:52.808200Z"
    },
    "papermill": {
     "duration": 0.048444,
     "end_time": "2023-12-13T23:18:52.811157",
     "exception": false,
     "start_time": "2023-12-13T23:18:52.762713",
     "status": "completed"
    },
    "tags": []
   },
   "outputs": [
    {
     "data": {
      "text/html": [
       "<div>\n",
       "<style scoped>\n",
       "    .dataframe tbody tr th:only-of-type {\n",
       "        vertical-align: middle;\n",
       "    }\n",
       "\n",
       "    .dataframe tbody tr th {\n",
       "        vertical-align: top;\n",
       "    }\n",
       "\n",
       "    .dataframe thead th {\n",
       "        text-align: right;\n",
       "    }\n",
       "</style>\n",
       "<table border=\"1\" class=\"dataframe\">\n",
       "  <thead>\n",
       "    <tr style=\"text-align: right;\">\n",
       "      <th></th>\n",
       "      <th>Age</th>\n",
       "      <th>Sex</th>\n",
       "      <th>ChestPainType</th>\n",
       "      <th>RestingBP</th>\n",
       "      <th>Cholesterol</th>\n",
       "      <th>FastingBS</th>\n",
       "      <th>RestingECG</th>\n",
       "      <th>MaxHR</th>\n",
       "      <th>ExerciseAngina</th>\n",
       "      <th>Oldpeak</th>\n",
       "      <th>ST_Slope</th>\n",
       "      <th>HeartDisease</th>\n",
       "    </tr>\n",
       "  </thead>\n",
       "  <tbody>\n",
       "    <tr>\n",
       "      <th>0</th>\n",
       "      <td>40</td>\n",
       "      <td>M</td>\n",
       "      <td>ATA</td>\n",
       "      <td>140</td>\n",
       "      <td>289</td>\n",
       "      <td>0</td>\n",
       "      <td>Normal</td>\n",
       "      <td>172</td>\n",
       "      <td>N</td>\n",
       "      <td>0.00</td>\n",
       "      <td>Up</td>\n",
       "      <td>0</td>\n",
       "    </tr>\n",
       "    <tr>\n",
       "      <th>1</th>\n",
       "      <td>49</td>\n",
       "      <td>F</td>\n",
       "      <td>NAP</td>\n",
       "      <td>160</td>\n",
       "      <td>180</td>\n",
       "      <td>0</td>\n",
       "      <td>Normal</td>\n",
       "      <td>156</td>\n",
       "      <td>N</td>\n",
       "      <td>1.00</td>\n",
       "      <td>Flat</td>\n",
       "      <td>1</td>\n",
       "    </tr>\n",
       "    <tr>\n",
       "      <th>2</th>\n",
       "      <td>37</td>\n",
       "      <td>M</td>\n",
       "      <td>ATA</td>\n",
       "      <td>130</td>\n",
       "      <td>283</td>\n",
       "      <td>0</td>\n",
       "      <td>ST</td>\n",
       "      <td>98</td>\n",
       "      <td>N</td>\n",
       "      <td>0.00</td>\n",
       "      <td>Up</td>\n",
       "      <td>0</td>\n",
       "    </tr>\n",
       "    <tr>\n",
       "      <th>3</th>\n",
       "      <td>48</td>\n",
       "      <td>F</td>\n",
       "      <td>ASY</td>\n",
       "      <td>138</td>\n",
       "      <td>214</td>\n",
       "      <td>0</td>\n",
       "      <td>Normal</td>\n",
       "      <td>108</td>\n",
       "      <td>Y</td>\n",
       "      <td>1.50</td>\n",
       "      <td>Flat</td>\n",
       "      <td>1</td>\n",
       "    </tr>\n",
       "    <tr>\n",
       "      <th>4</th>\n",
       "      <td>54</td>\n",
       "      <td>M</td>\n",
       "      <td>NAP</td>\n",
       "      <td>150</td>\n",
       "      <td>195</td>\n",
       "      <td>0</td>\n",
       "      <td>Normal</td>\n",
       "      <td>122</td>\n",
       "      <td>N</td>\n",
       "      <td>0.00</td>\n",
       "      <td>Up</td>\n",
       "      <td>0</td>\n",
       "    </tr>\n",
       "  </tbody>\n",
       "</table>\n",
       "</div>"
      ],
      "text/plain": [
       "   Age Sex ChestPainType  RestingBP  Cholesterol  FastingBS RestingECG  MaxHR  \\\n",
       "0   40   M           ATA        140          289          0     Normal    172   \n",
       "1   49   F           NAP        160          180          0     Normal    156   \n",
       "2   37   M           ATA        130          283          0         ST     98   \n",
       "3   48   F           ASY        138          214          0     Normal    108   \n",
       "4   54   M           NAP        150          195          0     Normal    122   \n",
       "\n",
       "  ExerciseAngina  Oldpeak ST_Slope  HeartDisease  \n",
       "0              N     0.00       Up             0  \n",
       "1              N     1.00     Flat             1  \n",
       "2              N     0.00       Up             0  \n",
       "3              Y     1.50     Flat             1  \n",
       "4              N     0.00       Up             0  "
      ]
     },
     "execution_count": 3,
     "metadata": {},
     "output_type": "execute_result"
    }
   ],
   "source": [
    "df = pd.read_csv(\"/kaggle/input/heart-failure-prediction/heart.csv\")\n",
    "df.head()"
   ]
  },
  {
   "cell_type": "code",
   "execution_count": 4,
   "id": "a8406b35",
   "metadata": {
    "execution": {
     "iopub.execute_input": "2023-12-13T23:18:52.832304Z",
     "iopub.status.busy": "2023-12-13T23:18:52.831963Z",
     "iopub.status.idle": "2023-12-13T23:18:52.855032Z",
     "shell.execute_reply": "2023-12-13T23:18:52.853824Z"
    },
    "papermill": {
     "duration": 0.036143,
     "end_time": "2023-12-13T23:18:52.857464",
     "exception": false,
     "start_time": "2023-12-13T23:18:52.821321",
     "status": "completed"
    },
    "tags": []
   },
   "outputs": [
    {
     "name": "stdout",
     "output_type": "stream",
     "text": [
      "<class 'pandas.core.frame.DataFrame'>\n",
      "RangeIndex: 918 entries, 0 to 917\n",
      "Data columns (total 12 columns):\n",
      " #   Column          Non-Null Count  Dtype  \n",
      "---  ------          --------------  -----  \n",
      " 0   Age             918 non-null    int64  \n",
      " 1   Sex             918 non-null    object \n",
      " 2   ChestPainType   918 non-null    object \n",
      " 3   RestingBP       918 non-null    int64  \n",
      " 4   Cholesterol     918 non-null    int64  \n",
      " 5   FastingBS       918 non-null    int64  \n",
      " 6   RestingECG      918 non-null    object \n",
      " 7   MaxHR           918 non-null    int64  \n",
      " 8   ExerciseAngina  918 non-null    object \n",
      " 9   Oldpeak         918 non-null    float64\n",
      " 10  ST_Slope        918 non-null    object \n",
      " 11  HeartDisease    918 non-null    int64  \n",
      "dtypes: float64(1), int64(6), object(5)\n",
      "memory usage: 86.2+ KB\n"
     ]
    }
   ],
   "source": [
    "df.info()"
   ]
  },
  {
   "cell_type": "code",
   "execution_count": 5,
   "id": "90f486ac",
   "metadata": {
    "execution": {
     "iopub.execute_input": "2023-12-13T23:18:52.879165Z",
     "iopub.status.busy": "2023-12-13T23:18:52.878833Z",
     "iopub.status.idle": "2023-12-13T23:18:52.904623Z",
     "shell.execute_reply": "2023-12-13T23:18:52.903757Z"
    },
    "papermill": {
     "duration": 0.038422,
     "end_time": "2023-12-13T23:18:52.906595",
     "exception": false,
     "start_time": "2023-12-13T23:18:52.868173",
     "status": "completed"
    },
    "tags": []
   },
   "outputs": [
    {
     "data": {
      "text/html": [
       "<div>\n",
       "<style scoped>\n",
       "    .dataframe tbody tr th:only-of-type {\n",
       "        vertical-align: middle;\n",
       "    }\n",
       "\n",
       "    .dataframe tbody tr th {\n",
       "        vertical-align: top;\n",
       "    }\n",
       "\n",
       "    .dataframe thead th {\n",
       "        text-align: right;\n",
       "    }\n",
       "</style>\n",
       "<table border=\"1\" class=\"dataframe\">\n",
       "  <thead>\n",
       "    <tr style=\"text-align: right;\">\n",
       "      <th></th>\n",
       "      <th>Age</th>\n",
       "      <th>RestingBP</th>\n",
       "      <th>Cholesterol</th>\n",
       "      <th>FastingBS</th>\n",
       "      <th>MaxHR</th>\n",
       "      <th>Oldpeak</th>\n",
       "      <th>HeartDisease</th>\n",
       "    </tr>\n",
       "  </thead>\n",
       "  <tbody>\n",
       "    <tr>\n",
       "      <th>count</th>\n",
       "      <td>918.00</td>\n",
       "      <td>918.00</td>\n",
       "      <td>918.00</td>\n",
       "      <td>918.00</td>\n",
       "      <td>918.00</td>\n",
       "      <td>918.00</td>\n",
       "      <td>918.00</td>\n",
       "    </tr>\n",
       "    <tr>\n",
       "      <th>mean</th>\n",
       "      <td>53.51</td>\n",
       "      <td>132.40</td>\n",
       "      <td>198.80</td>\n",
       "      <td>0.23</td>\n",
       "      <td>136.81</td>\n",
       "      <td>0.89</td>\n",
       "      <td>0.55</td>\n",
       "    </tr>\n",
       "    <tr>\n",
       "      <th>std</th>\n",
       "      <td>9.43</td>\n",
       "      <td>18.51</td>\n",
       "      <td>109.38</td>\n",
       "      <td>0.42</td>\n",
       "      <td>25.46</td>\n",
       "      <td>1.07</td>\n",
       "      <td>0.50</td>\n",
       "    </tr>\n",
       "    <tr>\n",
       "      <th>min</th>\n",
       "      <td>28.00</td>\n",
       "      <td>0.00</td>\n",
       "      <td>0.00</td>\n",
       "      <td>0.00</td>\n",
       "      <td>60.00</td>\n",
       "      <td>-2.60</td>\n",
       "      <td>0.00</td>\n",
       "    </tr>\n",
       "    <tr>\n",
       "      <th>25%</th>\n",
       "      <td>47.00</td>\n",
       "      <td>120.00</td>\n",
       "      <td>173.25</td>\n",
       "      <td>0.00</td>\n",
       "      <td>120.00</td>\n",
       "      <td>0.00</td>\n",
       "      <td>0.00</td>\n",
       "    </tr>\n",
       "    <tr>\n",
       "      <th>50%</th>\n",
       "      <td>54.00</td>\n",
       "      <td>130.00</td>\n",
       "      <td>223.00</td>\n",
       "      <td>0.00</td>\n",
       "      <td>138.00</td>\n",
       "      <td>0.60</td>\n",
       "      <td>1.00</td>\n",
       "    </tr>\n",
       "    <tr>\n",
       "      <th>75%</th>\n",
       "      <td>60.00</td>\n",
       "      <td>140.00</td>\n",
       "      <td>267.00</td>\n",
       "      <td>0.00</td>\n",
       "      <td>156.00</td>\n",
       "      <td>1.50</td>\n",
       "      <td>1.00</td>\n",
       "    </tr>\n",
       "    <tr>\n",
       "      <th>max</th>\n",
       "      <td>77.00</td>\n",
       "      <td>200.00</td>\n",
       "      <td>603.00</td>\n",
       "      <td>1.00</td>\n",
       "      <td>202.00</td>\n",
       "      <td>6.20</td>\n",
       "      <td>1.00</td>\n",
       "    </tr>\n",
       "  </tbody>\n",
       "</table>\n",
       "</div>"
      ],
      "text/plain": [
       "         Age  RestingBP  Cholesterol  FastingBS  MaxHR  Oldpeak  HeartDisease\n",
       "count 918.00     918.00       918.00     918.00 918.00   918.00        918.00\n",
       "mean   53.51     132.40       198.80       0.23 136.81     0.89          0.55\n",
       "std     9.43      18.51       109.38       0.42  25.46     1.07          0.50\n",
       "min    28.00       0.00         0.00       0.00  60.00    -2.60          0.00\n",
       "25%    47.00     120.00       173.25       0.00 120.00     0.00          0.00\n",
       "50%    54.00     130.00       223.00       0.00 138.00     0.60          1.00\n",
       "75%    60.00     140.00       267.00       0.00 156.00     1.50          1.00\n",
       "max    77.00     200.00       603.00       1.00 202.00     6.20          1.00"
      ]
     },
     "execution_count": 5,
     "metadata": {},
     "output_type": "execute_result"
    }
   ],
   "source": [
    "df.describe()"
   ]
  },
  {
   "cell_type": "code",
   "execution_count": 6,
   "id": "3f5df196",
   "metadata": {
    "execution": {
     "iopub.execute_input": "2023-12-13T23:18:52.928644Z",
     "iopub.status.busy": "2023-12-13T23:18:52.927885Z",
     "iopub.status.idle": "2023-12-13T23:18:52.935673Z",
     "shell.execute_reply": "2023-12-13T23:18:52.934826Z"
    },
    "papermill": {
     "duration": 0.020879,
     "end_time": "2023-12-13T23:18:52.937736",
     "exception": false,
     "start_time": "2023-12-13T23:18:52.916857",
     "status": "completed"
    },
    "tags": []
   },
   "outputs": [
    {
     "data": {
      "text/plain": [
       "Age               0\n",
       "Sex               0\n",
       "ChestPainType     0\n",
       "RestingBP         0\n",
       "Cholesterol       0\n",
       "FastingBS         0\n",
       "RestingECG        0\n",
       "MaxHR             0\n",
       "ExerciseAngina    0\n",
       "Oldpeak           0\n",
       "ST_Slope          0\n",
       "HeartDisease      0\n",
       "dtype: int64"
      ]
     },
     "execution_count": 6,
     "metadata": {},
     "output_type": "execute_result"
    }
   ],
   "source": [
    "df.isnull().sum()"
   ]
  },
  {
   "cell_type": "code",
   "execution_count": 7,
   "id": "13a44e4d",
   "metadata": {
    "execution": {
     "iopub.execute_input": "2023-12-13T23:18:52.958900Z",
     "iopub.status.busy": "2023-12-13T23:18:52.958651Z",
     "iopub.status.idle": "2023-12-13T23:18:53.193508Z",
     "shell.execute_reply": "2023-12-13T23:18:53.192636Z"
    },
    "papermill": {
     "duration": 0.248,
     "end_time": "2023-12-13T23:18:53.195757",
     "exception": false,
     "start_time": "2023-12-13T23:18:52.947757",
     "status": "completed"
    },
    "tags": []
   },
   "outputs": [
    {
     "data": {
      "image/png": "[encoded data removed]",
      "text/plain": [
       "<Figure size 640x480 with 1 Axes>"
      ]
     },
     "metadata": {},
     "output_type": "display_data"
    }
   ],
   "source": [
    "sns.countplot(x = \"HeartDisease\", data = df);"
   ]
  },
  {
   "cell_type": "code",
   "execution_count": 8,
   "id": "ed9742c0",
   "metadata": {
    "execution": {
     "iopub.execute_input": "2023-12-13T23:18:53.218904Z",
     "iopub.status.busy": "2023-12-13T23:18:53.218581Z",
     "iopub.status.idle": "2023-12-13T23:18:53.580351Z",
     "shell.execute_reply": "2023-12-13T23:18:53.579471Z"
    },
    "papermill": {
     "duration": 0.375252,
     "end_time": "2023-12-13T23:18:53.582356",
     "exception": false,
     "start_time": "2023-12-13T23:18:53.207104",
     "status": "completed"
    },
    "tags": []
   },
   "outputs": [
    {
     "data": {
      "image/png": "[encoded data removed]",
      "text/plain": [
       "<Figure size 640x480 with 1 Axes>"
      ]
     },
     "metadata": {},
     "output_type": "display_data"
    }
   ],
   "source": [
    "sns.kdeplot( data=df, x=\"Cholesterol\", hue=\"ChestPainType\", fill=True, common_norm=False, palette=\"tab10\", alpha=.5, linewidth=0);"
   ]
  },
  {
   "cell_type": "code",
   "execution_count": 9,
   "id": "a1ed394e",
   "metadata": {
    "execution": {
     "iopub.execute_input": "2023-12-13T23:18:53.606030Z",
     "iopub.status.busy": "2023-12-13T23:18:53.605699Z",
     "iopub.status.idle": "2023-12-13T23:18:54.603518Z",
     "shell.execute_reply": "2023-12-13T23:18:54.602623Z"
    },
    "papermill": {
     "duration": 1.01272,
     "end_time": "2023-12-13T23:18:54.606316",
     "exception": false,
     "start_time": "2023-12-13T23:18:53.593596",
     "status": "completed"
    },
    "tags": []
   },
   "outputs": [
    {
     "data": {
      "image/png": "[encoded data removed]",
      "text/plain": [
       "<Figure size 1111.74x500 with 2 Axes>"
      ]
     },
     "metadata": {},
     "output_type": "display_data"
    }
   ],
   "source": [
    "sns.displot(data=df, x=\"Cholesterol\", hue=\"ChestPainType\", col=\"Sex\", kind=\"kde\");"
   ]
  },
  {
   "cell_type": "markdown",
   "id": "a42880a9",
   "metadata": {
    "papermill": {
     "duration": 0.011851,
     "end_time": "2023-12-13T23:18:54.630723",
     "exception": false,
     "start_time": "2023-12-13T23:18:54.618872",
     "status": "completed"
    },
    "tags": []
   },
   "source": [
    "## **Preprocessing**"
   ]
  },
  {
   "cell_type": "markdown",
   "id": "532def70",
   "metadata": {
    "papermill": {
     "duration": 0.011626,
     "end_time": "2023-12-13T23:18:54.654446",
     "exception": false,
     "start_time": "2023-12-13T23:18:54.642820",
     "status": "completed"
    },
    "tags": []
   },
   "source": [
    "### **Define features X and target y**"
   ]
  },
  {
   "cell_type": "code",
   "execution_count": 10,
   "id": "0acb0292",
   "metadata": {
    "execution": {
     "iopub.execute_input": "2023-12-13T23:18:54.679845Z",
     "iopub.status.busy": "2023-12-13T23:18:54.679463Z",
     "iopub.status.idle": "2023-12-13T23:18:54.684861Z",
     "shell.execute_reply": "2023-12-13T23:18:54.684124Z"
    },
    "papermill": {
     "duration": 0.020439,
     "end_time": "2023-12-13T23:18:54.686831",
     "exception": false,
     "start_time": "2023-12-13T23:18:54.666392",
     "status": "completed"
    },
    "tags": []
   },
   "outputs": [],
   "source": [
    "X = df.drop('HeartDisease' , axis='columns')\n",
    "y = df['HeartDisease']"
   ]
  },
  {
   "cell_type": "code",
   "execution_count": 11,
   "id": "9a678cfd",
   "metadata": {
    "execution": {
     "iopub.execute_input": "2023-12-13T23:18:54.712476Z",
     "iopub.status.busy": "2023-12-13T23:18:54.711762Z",
     "iopub.status.idle": "2023-12-13T23:18:54.728417Z",
     "shell.execute_reply": "2023-12-13T23:18:54.727628Z"
    },
    "papermill": {
     "duration": 0.031714,
     "end_time": "2023-12-13T23:18:54.730462",
     "exception": false,
     "start_time": "2023-12-13T23:18:54.698748",
     "status": "completed"
    },
    "tags": []
   },
   "outputs": [
    {
     "data": {
      "text/html": [
       "<div>\n",
       "<style scoped>\n",
       "    .dataframe tbody tr th:only-of-type {\n",
       "        vertical-align: middle;\n",
       "    }\n",
       "\n",
       "    .dataframe tbody tr th {\n",
       "        vertical-align: top;\n",
       "    }\n",
       "\n",
       "    .dataframe thead th {\n",
       "        text-align: right;\n",
       "    }\n",
       "</style>\n",
       "<table border=\"1\" class=\"dataframe\">\n",
       "  <thead>\n",
       "    <tr style=\"text-align: right;\">\n",
       "      <th></th>\n",
       "      <th>Age</th>\n",
       "      <th>Sex</th>\n",
       "      <th>ChestPainType</th>\n",
       "      <th>RestingBP</th>\n",
       "      <th>Cholesterol</th>\n",
       "      <th>FastingBS</th>\n",
       "      <th>RestingECG</th>\n",
       "      <th>MaxHR</th>\n",
       "      <th>ExerciseAngina</th>\n",
       "      <th>Oldpeak</th>\n",
       "      <th>ST_Slope</th>\n",
       "    </tr>\n",
       "  </thead>\n",
       "  <tbody>\n",
       "    <tr>\n",
       "      <th>0</th>\n",
       "      <td>40</td>\n",
       "      <td>M</td>\n",
       "      <td>ATA</td>\n",
       "      <td>140</td>\n",
       "      <td>289</td>\n",
       "      <td>0</td>\n",
       "      <td>Normal</td>\n",
       "      <td>172</td>\n",
       "      <td>N</td>\n",
       "      <td>0.00</td>\n",
       "      <td>Up</td>\n",
       "    </tr>\n",
       "    <tr>\n",
       "      <th>1</th>\n",
       "      <td>49</td>\n",
       "      <td>F</td>\n",
       "      <td>NAP</td>\n",
       "      <td>160</td>\n",
       "      <td>180</td>\n",
       "      <td>0</td>\n",
       "      <td>Normal</td>\n",
       "      <td>156</td>\n",
       "      <td>N</td>\n",
       "      <td>1.00</td>\n",
       "      <td>Flat</td>\n",
       "    </tr>\n",
       "    <tr>\n",
       "      <th>2</th>\n",
       "      <td>37</td>\n",
       "      <td>M</td>\n",
       "      <td>ATA</td>\n",
       "      <td>130</td>\n",
       "      <td>283</td>\n",
       "      <td>0</td>\n",
       "      <td>ST</td>\n",
       "      <td>98</td>\n",
       "      <td>N</td>\n",
       "      <td>0.00</td>\n",
       "      <td>Up</td>\n",
       "    </tr>\n",
       "    <tr>\n",
       "      <th>3</th>\n",
       "      <td>48</td>\n",
       "      <td>F</td>\n",
       "      <td>ASY</td>\n",
       "      <td>138</td>\n",
       "      <td>214</td>\n",
       "      <td>0</td>\n",
       "      <td>Normal</td>\n",
       "      <td>108</td>\n",
       "      <td>Y</td>\n",
       "      <td>1.50</td>\n",
       "      <td>Flat</td>\n",
       "    </tr>\n",
       "    <tr>\n",
       "      <th>4</th>\n",
       "      <td>54</td>\n",
       "      <td>M</td>\n",
       "      <td>NAP</td>\n",
       "      <td>150</td>\n",
       "      <td>195</td>\n",
       "      <td>0</td>\n",
       "      <td>Normal</td>\n",
       "      <td>122</td>\n",
       "      <td>N</td>\n",
       "      <td>0.00</td>\n",
       "      <td>Up</td>\n",
       "    </tr>\n",
       "    <tr>\n",
       "      <th>...</th>\n",
       "      <td>...</td>\n",
       "      <td>...</td>\n",
       "      <td>...</td>\n",
       "      <td>...</td>\n",
       "      <td>...</td>\n",
       "      <td>...</td>\n",
       "      <td>...</td>\n",
       "      <td>...</td>\n",
       "      <td>...</td>\n",
       "      <td>...</td>\n",
       "      <td>...</td>\n",
       "    </tr>\n",
       "    <tr>\n",
       "      <th>913</th>\n",
       "      <td>45</td>\n",
       "      <td>M</td>\n",
       "      <td>TA</td>\n",
       "      <td>110</td>\n",
       "      <td>264</td>\n",
       "      <td>0</td>\n",
       "      <td>Normal</td>\n",
       "      <td>132</td>\n",
       "      <td>N</td>\n",
       "      <td>1.20</td>\n",
       "      <td>Flat</td>\n",
       "    </tr>\n",
       "    <tr>\n",
       "      <th>914</th>\n",
       "      <td>68</td>\n",
       "      <td>M</td>\n",
       "      <td>ASY</td>\n",
       "      <td>144</td>\n",
       "      <td>193</td>\n",
       "      <td>1</td>\n",
       "      <td>Normal</td>\n",
       "      <td>141</td>\n",
       "      <td>N</td>\n",
       "      <td>3.40</td>\n",
       "      <td>Flat</td>\n",
       "    </tr>\n",
       "    <tr>\n",
       "      <th>915</th>\n",
       "      <td>57</td>\n",
       "      <td>M</td>\n",
       "      <td>ASY</td>\n",
       "      <td>130</td>\n",
       "      <td>131</td>\n",
       "      <td>0</td>\n",
       "      <td>Normal</td>\n",
       "      <td>115</td>\n",
       "      <td>Y</td>\n",
       "      <td>1.20</td>\n",
       "      <td>Flat</td>\n",
       "    </tr>\n",
       "    <tr>\n",
       "      <th>916</th>\n",
       "      <td>57</td>\n",
       "      <td>F</td>\n",
       "      <td>ATA</td>\n",
       "      <td>130</td>\n",
       "      <td>236</td>\n",
       "      <td>0</td>\n",
       "      <td>LVH</td>\n",
       "      <td>174</td>\n",
       "      <td>N</td>\n",
       "      <td>0.00</td>\n",
       "      <td>Flat</td>\n",
       "    </tr>\n",
       "    <tr>\n",
       "      <th>917</th>\n",
       "      <td>38</td>\n",
       "      <td>M</td>\n",
       "      <td>NAP</td>\n",
       "      <td>138</td>\n",
       "      <td>175</td>\n",
       "      <td>0</td>\n",
       "      <td>Normal</td>\n",
       "      <td>173</td>\n",
       "      <td>N</td>\n",
       "      <td>0.00</td>\n",
       "      <td>Up</td>\n",
       "    </tr>\n",
       "  </tbody>\n",
       "</table>\n",
       "<p>918 rows × 11 columns</p>\n",
       "</div>"
      ],
      "text/plain": [
       "     Age Sex ChestPainType  RestingBP  Cholesterol  FastingBS RestingECG  \\\n",
       "0     40   M           ATA        140          289          0     Normal   \n",
       "1     49   F           NAP        160          180          0     Normal   \n",
       "2     37   M           ATA        130          283          0         ST   \n",
       "3     48   F           ASY        138          214          0     Normal   \n",
       "4     54   M           NAP        150          195          0     Normal   \n",
       "..   ...  ..           ...        ...          ...        ...        ...   \n",
       "913   45   M            TA        110          264          0     Normal   \n",
       "914   68   M           ASY        144          193          1     Normal   \n",
       "915   57   M           ASY        130          131          0     Normal   \n",
       "916   57   F           ATA        130          236          0        LVH   \n",
       "917   38   M           NAP        138          175          0     Normal   \n",
       "\n",
       "     MaxHR ExerciseAngina  Oldpeak ST_Slope  \n",
       "0      172              N     0.00       Up  \n",
       "1      156              N     1.00     Flat  \n",
       "2       98              N     0.00       Up  \n",
       "3      108              Y     1.50     Flat  \n",
       "4      122              N     0.00       Up  \n",
       "..     ...            ...      ...      ...  \n",
       "913    132              N     1.20     Flat  \n",
       "914    141              N     3.40     Flat  \n",
       "915    115              Y     1.20     Flat  \n",
       "916    174              N     0.00     Flat  \n",
       "917    173              N     0.00       Up  \n",
       "\n",
       "[918 rows x 11 columns]"
      ]
     },
     "execution_count": 11,
     "metadata": {},
     "output_type": "execute_result"
    }
   ],
   "source": [
    "X"
   ]
  },
  {
   "cell_type": "code",
   "execution_count": 12,
   "id": "147242b2",
   "metadata": {
    "execution": {
     "iopub.execute_input": "2023-12-13T23:18:54.756916Z",
     "iopub.status.busy": "2023-12-13T23:18:54.756581Z",
     "iopub.status.idle": "2023-12-13T23:18:54.763561Z",
     "shell.execute_reply": "2023-12-13T23:18:54.762757Z"
    },
    "papermill": {
     "duration": 0.022513,
     "end_time": "2023-12-13T23:18:54.765463",
     "exception": false,
     "start_time": "2023-12-13T23:18:54.742950",
     "status": "completed"
    },
    "tags": []
   },
   "outputs": [
    {
     "data": {
      "text/plain": [
       "0      0\n",
       "1      1\n",
       "2      0\n",
       "3      1\n",
       "4      0\n",
       "      ..\n",
       "913    1\n",
       "914    1\n",
       "915    1\n",
       "916    1\n",
       "917    0\n",
       "Name: HeartDisease, Length: 918, dtype: int64"
      ]
     },
     "execution_count": 12,
     "metadata": {},
     "output_type": "execute_result"
    }
   ],
   "source": [
    "y"
   ]
  },
  {
   "cell_type": "markdown",
   "id": "4588b917",
   "metadata": {
    "papermill": {
     "duration": 0.012233,
     "end_time": "2023-12-13T23:18:54.790367",
     "exception": false,
     "start_time": "2023-12-13T23:18:54.778134",
     "status": "completed"
    },
    "tags": []
   },
   "source": [
    "### **Encode string columns**"
   ]
  },
  {
   "cell_type": "code",
   "execution_count": 13,
   "id": "ac7c828f",
   "metadata": {
    "execution": {
     "iopub.execute_input": "2023-12-13T23:18:54.816561Z",
     "iopub.status.busy": "2023-12-13T23:18:54.816192Z",
     "iopub.status.idle": "2023-12-13T23:18:54.823671Z",
     "shell.execute_reply": "2023-12-13T23:18:54.822796Z"
    },
    "papermill": {
     "duration": 0.022906,
     "end_time": "2023-12-13T23:18:54.825678",
     "exception": false,
     "start_time": "2023-12-13T23:18:54.802772",
     "status": "completed"
    },
    "tags": []
   },
   "outputs": [
    {
     "data": {
      "text/plain": [
       "ChestPainType\n",
       "ASY    496\n",
       "NAP    203\n",
       "ATA    173\n",
       "TA      46\n",
       "Name: count, dtype: int64"
      ]
     },
     "execution_count": 13,
     "metadata": {},
     "output_type": "execute_result"
    }
   ],
   "source": [
    "X['ChestPainType'].value_counts()"
   ]
  },
  {
   "cell_type": "code",
   "execution_count": 14,
   "id": "3490da47",
   "metadata": {
    "execution": {
     "iopub.execute_input": "2023-12-13T23:18:54.853136Z",
     "iopub.status.busy": "2023-12-13T23:18:54.852412Z",
     "iopub.status.idle": "2023-12-13T23:18:54.861359Z",
     "shell.execute_reply": "2023-12-13T23:18:54.860678Z"
    },
    "papermill": {
     "duration": 0.024594,
     "end_time": "2023-12-13T23:18:54.863133",
     "exception": false,
     "start_time": "2023-12-13T23:18:54.838539",
     "status": "completed"
    },
    "tags": []
   },
   "outputs": [],
   "source": [
    "X = X.apply(LabelEncoder().fit_transform)"
   ]
  },
  {
   "cell_type": "code",
   "execution_count": 15,
   "id": "ddf36cd1",
   "metadata": {
    "execution": {
     "iopub.execute_input": "2023-12-13T23:18:54.890121Z",
     "iopub.status.busy": "2023-12-13T23:18:54.889576Z",
     "iopub.status.idle": "2023-12-13T23:18:54.903826Z",
     "shell.execute_reply": "2023-12-13T23:18:54.902999Z"
    },
    "papermill": {
     "duration": 0.029798,
     "end_time": "2023-12-13T23:18:54.905679",
     "exception": false,
     "start_time": "2023-12-13T23:18:54.875881",
     "status": "completed"
    },
    "tags": []
   },
   "outputs": [
    {
     "data": {
      "text/html": [
       "<div>\n",
       "<style scoped>\n",
       "    .dataframe tbody tr th:only-of-type {\n",
       "        vertical-align: middle;\n",
       "    }\n",
       "\n",
       "    .dataframe tbody tr th {\n",
       "        vertical-align: top;\n",
       "    }\n",
       "\n",
       "    .dataframe thead th {\n",
       "        text-align: right;\n",
       "    }\n",
       "</style>\n",
       "<table border=\"1\" class=\"dataframe\">\n",
       "  <thead>\n",
       "    <tr style=\"text-align: right;\">\n",
       "      <th></th>\n",
       "      <th>Age</th>\n",
       "      <th>Sex</th>\n",
       "      <th>ChestPainType</th>\n",
       "      <th>RestingBP</th>\n",
       "      <th>Cholesterol</th>\n",
       "      <th>FastingBS</th>\n",
       "      <th>RestingECG</th>\n",
       "      <th>MaxHR</th>\n",
       "      <th>ExerciseAngina</th>\n",
       "      <th>Oldpeak</th>\n",
       "      <th>ST_Slope</th>\n",
       "    </tr>\n",
       "  </thead>\n",
       "  <tbody>\n",
       "    <tr>\n",
       "      <th>0</th>\n",
       "      <td>12</td>\n",
       "      <td>1</td>\n",
       "      <td>1</td>\n",
       "      <td>41</td>\n",
       "      <td>147</td>\n",
       "      <td>0</td>\n",
       "      <td>1</td>\n",
       "      <td>98</td>\n",
       "      <td>0</td>\n",
       "      <td>10</td>\n",
       "      <td>2</td>\n",
       "    </tr>\n",
       "    <tr>\n",
       "      <th>1</th>\n",
       "      <td>21</td>\n",
       "      <td>0</td>\n",
       "      <td>2</td>\n",
       "      <td>55</td>\n",
       "      <td>40</td>\n",
       "      <td>0</td>\n",
       "      <td>1</td>\n",
       "      <td>82</td>\n",
       "      <td>0</td>\n",
       "      <td>20</td>\n",
       "      <td>1</td>\n",
       "    </tr>\n",
       "    <tr>\n",
       "      <th>2</th>\n",
       "      <td>9</td>\n",
       "      <td>1</td>\n",
       "      <td>1</td>\n",
       "      <td>31</td>\n",
       "      <td>141</td>\n",
       "      <td>0</td>\n",
       "      <td>2</td>\n",
       "      <td>25</td>\n",
       "      <td>0</td>\n",
       "      <td>10</td>\n",
       "      <td>2</td>\n",
       "    </tr>\n",
       "    <tr>\n",
       "      <th>3</th>\n",
       "      <td>20</td>\n",
       "      <td>0</td>\n",
       "      <td>0</td>\n",
       "      <td>39</td>\n",
       "      <td>72</td>\n",
       "      <td>0</td>\n",
       "      <td>1</td>\n",
       "      <td>34</td>\n",
       "      <td>1</td>\n",
       "      <td>25</td>\n",
       "      <td>1</td>\n",
       "    </tr>\n",
       "    <tr>\n",
       "      <th>4</th>\n",
       "      <td>26</td>\n",
       "      <td>1</td>\n",
       "      <td>2</td>\n",
       "      <td>49</td>\n",
       "      <td>53</td>\n",
       "      <td>0</td>\n",
       "      <td>1</td>\n",
       "      <td>48</td>\n",
       "      <td>0</td>\n",
       "      <td>10</td>\n",
       "      <td>2</td>\n",
       "    </tr>\n",
       "    <tr>\n",
       "      <th>...</th>\n",
       "      <td>...</td>\n",
       "      <td>...</td>\n",
       "      <td>...</td>\n",
       "      <td>...</td>\n",
       "      <td>...</td>\n",
       "      <td>...</td>\n",
       "      <td>...</td>\n",
       "      <td>...</td>\n",
       "      <td>...</td>\n",
       "      <td>...</td>\n",
       "      <td>...</td>\n",
       "    </tr>\n",
       "    <tr>\n",
       "      <th>913</th>\n",
       "      <td>17</td>\n",
       "      <td>1</td>\n",
       "      <td>3</td>\n",
       "      <td>14</td>\n",
       "      <td>122</td>\n",
       "      <td>0</td>\n",
       "      <td>1</td>\n",
       "      <td>58</td>\n",
       "      <td>0</td>\n",
       "      <td>22</td>\n",
       "      <td>1</td>\n",
       "    </tr>\n",
       "    <tr>\n",
       "      <th>914</th>\n",
       "      <td>40</td>\n",
       "      <td>1</td>\n",
       "      <td>0</td>\n",
       "      <td>45</td>\n",
       "      <td>51</td>\n",
       "      <td>1</td>\n",
       "      <td>1</td>\n",
       "      <td>67</td>\n",
       "      <td>0</td>\n",
       "      <td>42</td>\n",
       "      <td>1</td>\n",
       "    </tr>\n",
       "    <tr>\n",
       "      <th>915</th>\n",
       "      <td>29</td>\n",
       "      <td>1</td>\n",
       "      <td>0</td>\n",
       "      <td>31</td>\n",
       "      <td>9</td>\n",
       "      <td>0</td>\n",
       "      <td>1</td>\n",
       "      <td>41</td>\n",
       "      <td>1</td>\n",
       "      <td>22</td>\n",
       "      <td>1</td>\n",
       "    </tr>\n",
       "    <tr>\n",
       "      <th>916</th>\n",
       "      <td>29</td>\n",
       "      <td>0</td>\n",
       "      <td>1</td>\n",
       "      <td>31</td>\n",
       "      <td>94</td>\n",
       "      <td>0</td>\n",
       "      <td>0</td>\n",
       "      <td>100</td>\n",
       "      <td>0</td>\n",
       "      <td>10</td>\n",
       "      <td>1</td>\n",
       "    </tr>\n",
       "    <tr>\n",
       "      <th>917</th>\n",
       "      <td>10</td>\n",
       "      <td>1</td>\n",
       "      <td>2</td>\n",
       "      <td>39</td>\n",
       "      <td>35</td>\n",
       "      <td>0</td>\n",
       "      <td>1</td>\n",
       "      <td>99</td>\n",
       "      <td>0</td>\n",
       "      <td>10</td>\n",
       "      <td>2</td>\n",
       "    </tr>\n",
       "  </tbody>\n",
       "</table>\n",
       "<p>918 rows × 11 columns</p>\n",
       "</div>"
      ],
      "text/plain": [
       "     Age  Sex  ChestPainType  RestingBP  Cholesterol  FastingBS  RestingECG  \\\n",
       "0     12    1              1         41          147          0           1   \n",
       "1     21    0              2         55           40          0           1   \n",
       "2      9    1              1         31          141          0           2   \n",
       "3     20    0              0         39           72          0           1   \n",
       "4     26    1              2         49           53          0           1   \n",
       "..   ...  ...            ...        ...          ...        ...         ...   \n",
       "913   17    1              3         14          122          0           1   \n",
       "914   40    1              0         45           51          1           1   \n",
       "915   29    1              0         31            9          0           1   \n",
       "916   29    0              1         31           94          0           0   \n",
       "917   10    1              2         39           35          0           1   \n",
       "\n",
       "     MaxHR  ExerciseAngina  Oldpeak  ST_Slope  \n",
       "0       98               0       10         2  \n",
       "1       82               0       20         1  \n",
       "2       25               0       10         2  \n",
       "3       34               1       25         1  \n",
       "4       48               0       10         2  \n",
       "..     ...             ...      ...       ...  \n",
       "913     58               0       22         1  \n",
       "914     67               0       42         1  \n",
       "915     41               1       22         1  \n",
       "916    100               0       10         1  \n",
       "917     99               0       10         2  \n",
       "\n",
       "[918 rows x 11 columns]"
      ]
     },
     "execution_count": 15,
     "metadata": {},
     "output_type": "execute_result"
    }
   ],
   "source": [
    "X"
   ]
  },
  {
   "cell_type": "markdown",
   "id": "3a47112c",
   "metadata": {
    "papermill": {
     "duration": 0.012738,
     "end_time": "2023-12-13T23:18:54.931425",
     "exception": false,
     "start_time": "2023-12-13T23:18:54.918687",
     "status": "completed"
    },
    "tags": []
   },
   "source": [
    "### **Data Scaling**"
   ]
  },
  {
   "cell_type": "code",
   "execution_count": 16,
   "id": "bdbf19b1",
   "metadata": {
    "execution": {
     "iopub.execute_input": "2023-12-13T23:18:54.958802Z",
     "iopub.status.busy": "2023-12-13T23:18:54.958446Z",
     "iopub.status.idle": "2023-12-13T23:18:54.967034Z",
     "shell.execute_reply": "2023-12-13T23:18:54.966176Z"
    },
    "papermill": {
     "duration": 0.024551,
     "end_time": "2023-12-13T23:18:54.968956",
     "exception": false,
     "start_time": "2023-12-13T23:18:54.944405",
     "status": "completed"
    },
    "tags": []
   },
   "outputs": [],
   "source": [
    "standardScalerModel = StandardScaler()\n",
    "X = standardScalerModel.fit_transform(X)"
   ]
  },
  {
   "cell_type": "markdown",
   "id": "d2dce0c8",
   "metadata": {
    "papermill": {
     "duration": 0.012967,
     "end_time": "2023-12-13T23:18:55.043644",
     "exception": false,
     "start_time": "2023-12-13T23:18:55.030677",
     "status": "completed"
    },
    "tags": []
   },
   "source": [
    "### **Data Splitting**"
   ]
  },
  {
   "cell_type": "code",
   "execution_count": 17,
   "id": "3e07dacf",
   "metadata": {
    "execution": {
     "iopub.execute_input": "2023-12-13T23:18:55.071667Z",
     "iopub.status.busy": "2023-12-13T23:18:55.070808Z",
     "iopub.status.idle": "2023-12-13T23:18:55.077378Z",
     "shell.execute_reply": "2023-12-13T23:18:55.076409Z"
    },
    "papermill": {
     "duration": 0.022785,
     "end_time": "2023-12-13T23:18:55.079369",
     "exception": false,
     "start_time": "2023-12-13T23:18:55.056584",
     "status": "completed"
    },
    "tags": []
   },
   "outputs": [],
   "source": [
    "X_train , X_test , y_train , y_test = train_test_split(X,y,test_size=0.2 , random_state=42 , shuffle=True)"
   ]
  },
  {
   "cell_type": "markdown",
   "id": "911a50ee",
   "metadata": {
    "papermill": {
     "duration": 0.01274,
     "end_time": "2023-12-13T23:18:55.105120",
     "exception": false,
     "start_time": "2023-12-13T23:18:55.092380",
     "status": "completed"
    },
    "tags": []
   },
   "source": [
    "## **XGBoost Model**"
   ]
  },
  {
   "cell_type": "code",
   "execution_count": 18,
   "id": "a6c4163b",
   "metadata": {
    "execution": {
     "iopub.execute_input": "2023-12-13T23:18:55.132541Z",
     "iopub.status.busy": "2023-12-13T23:18:55.132213Z",
     "iopub.status.idle": "2023-12-13T23:18:56.022769Z",
     "shell.execute_reply": "2023-12-13T23:18:56.022100Z"
    },
    "papermill": {
     "duration": 0.906631,
     "end_time": "2023-12-13T23:18:56.024790",
     "exception": false,
     "start_time": "2023-12-13T23:18:55.118159",
     "status": "completed"
    },
    "tags": []
   },
   "outputs": [
    {
     "data": {
      "text/html": [
       "<style>#sk-container-id-1 {color: black;background-color: white;}#sk-container-id-1 pre{padding: 0;}#sk-container-id-1 div.sk-toggleable {background-color: white;}#sk-container-id-1 label.sk-toggleable__label {cursor: pointer;display: block;width: 100%;margin-bottom: 0;padding: 0.3em;box-sizing: border-box;text-align: center;}#sk-container-id-1 label.sk-toggleable__label-arrow:before {content: \"▸\";float: left;margin-right: 0.25em;color: #696969;}#sk-container-id-1 label.sk-toggleable__label-arrow:hover:before {color: black;}#sk-container-id-1 div.sk-estimator:hover label.sk-toggleable__label-arrow:before {color: black;}#sk-container-id-1 div.sk-toggleable__content {max-height: 0;max-width: 0;overflow: hidden;text-align: left;background-color: #f0f8ff;}#sk-container-id-1 div.sk-toggleable__content pre {margin: 0.2em;color: black;border-radius: 0.25em;background-color: #f0f8ff;}#sk-container-id-1 input.sk-toggleable__control:checked~div.sk-toggleable__content {max-height: 200px;max-width: 100%;overflow: auto;}#sk-container-id-1 input.sk-toggleable__control:checked~label.sk-toggleable__label-arrow:before {content: \"▾\";}#sk-container-id-1 div.sk-estimator input.sk-toggleable__control:checked~label.sk-toggleable__label {background-color: #d4ebff;}#sk-container-id-1 div.sk-label input.sk-toggleable__control:checked~label.sk-toggleable__label {background-color: #d4ebff;}#sk-container-id-1 input.sk-hidden--visually {border: 0;clip: rect(1px 1px 1px 1px);clip: rect(1px, 1px, 1px, 1px);height: 1px;margin: -1px;overflow: hidden;padding: 0;position: absolute;width: 1px;}#sk-container-id-1 div.sk-estimator {font-family: monospace;background-color: #f0f8ff;border: 1px dotted black;border-radius: 0.25em;box-sizing: border-box;margin-bottom: 0.5em;}#sk-container-id-1 div.sk-estimator:hover {background-color: #d4ebff;}#sk-container-id-1 div.sk-parallel-item::after {content: \"\";width: 100%;border-bottom: 1px solid gray;flex-grow: 1;}#sk-container-id-1 div.sk-label:hover label.sk-toggleable__label {background-color: #d4ebff;}#sk-container-id-1 div.sk-serial::before {content: \"\";position: absolute;border-left: 1px solid gray;box-sizing: border-box;top: 0;bottom: 0;left: 50%;z-index: 0;}#sk-container-id-1 div.sk-serial {display: flex;flex-direction: column;align-items: center;background-color: white;padding-right: 0.2em;padding-left: 0.2em;position: relative;}#sk-container-id-1 div.sk-item {position: relative;z-index: 1;}#sk-container-id-1 div.sk-parallel {display: flex;align-items: stretch;justify-content: center;background-color: white;position: relative;}#sk-container-id-1 div.sk-item::before, #sk-container-id-1 div.sk-parallel-item::before {content: \"\";position: absolute;border-left: 1px solid gray;box-sizing: border-box;top: 0;bottom: 0;left: 50%;z-index: -1;}#sk-container-id-1 div.sk-parallel-item {display: flex;flex-direction: column;z-index: 1;position: relative;background-color: white;}#sk-container-id-1 div.sk-parallel-item:first-child::after {align-self: flex-end;width: 50%;}#sk-container-id-1 div.sk-parallel-item:last-child::after {align-self: flex-start;width: 50%;}#sk-container-id-1 div.sk-parallel-item:only-child::after {width: 0;}#sk-container-id-1 div.sk-dashed-wrapped {border: 1px dashed gray;margin: 0 0.4em 0.5em 0.4em;box-sizing: border-box;padding-bottom: 0.4em;background-color: white;}#sk-container-id-1 div.sk-label label {font-family: monospace;font-weight: bold;display: inline-block;line-height: 1.2em;}#sk-container-id-1 div.sk-label-container {text-align: center;}#sk-container-id-1 div.sk-container {/* jupyter's `normalize.less` sets `[hidden] { display: none; }` but bootstrap.min.css set `[hidden] { display: none !important; }` so we also need the `!important` here to be able to override the default hidden behavior on the sphinx rendered scikit-learn.org. See: https://github.com/scikit-learn/scikit-learn/issues/21755 */display: inline-block !important;position: relative;}#sk-container-id-1 div.sk-text-repr-fallback {display: none;}</style><div id=\"sk-container-id-1\" class=\"sk-top-container\"><div class=\"sk-text-repr-fallback\"><pre>XGBClassifier(base_score=None, booster=None, callbacks=None,\n",
       "              colsample_bylevel=None, colsample_bynode=None,\n",
       "              colsample_bytree=None, device=None, early_stopping_rounds=None,\n",
       "              enable_categorical=False, eval_metric=None, feature_types=None,\n",
       "              gamma=None, grow_policy=None, importance_type=None,\n",
       "              interaction_constraints=None, learning_rate=0.001, max_bin=None,\n",
       "              max_cat_threshold=None, max_cat_to_onehot=None,\n",
       "              max_delta_step=None, max_depth=None, max_leaves=None,\n",
       "              min_child_weight=None, missing=nan, monotone_constraints=None,\n",
       "              multi_strategy=None, n_estimators=1000, n_jobs=None,\n",
       "              num_parallel_tree=None, random_state=None, ...)</pre><b>In a Jupyter environment, please rerun this cell to show the HTML representation or trust the notebook. <br />On GitHub, the HTML representation is unable to render, please try loading this page with nbviewer.org.</b></div><div class=\"sk-container\" hidden><div class=\"sk-item\"><div class=\"sk-estimator sk-toggleable\"><input class=\"sk-toggleable__control sk-hidden--visually\" id=\"sk-estimator-id-1\" type=\"checkbox\" checked><label for=\"sk-estimator-id-1\" class=\"sk-toggleable__label sk-toggleable__label-arrow\">XGBClassifier</label><div class=\"sk-toggleable__content\"><pre>XGBClassifier(base_score=None, booster=None, callbacks=None,\n",
       "              colsample_bylevel=None, colsample_bynode=None,\n",
       "              colsample_bytree=None, device=None, early_stopping_rounds=None,\n",
       "              enable_categorical=False, eval_metric=None, feature_types=None,\n",
       "              gamma=None, grow_policy=None, importance_type=None,\n",
       "              interaction_constraints=None, learning_rate=0.001, max_bin=None,\n",
       "              max_cat_threshold=None, max_cat_to_onehot=None,\n",
       "              max_delta_step=None, max_depth=None, max_leaves=None,\n",
       "              min_child_weight=None, missing=nan, monotone_constraints=None,\n",
       "              multi_strategy=None, n_estimators=1000, n_jobs=None,\n",
       "              num_parallel_tree=None, random_state=None, ...)</pre></div></div></div></div></div>"
      ],
      "text/plain": [
       "XGBClassifier(base_score=None, booster=None, callbacks=None,\n",
       "              colsample_bylevel=None, colsample_bynode=None,\n",
       "              colsample_bytree=None, device=None, early_stopping_rounds=None,\n",
       "              enable_categorical=False, eval_metric=None, feature_types=None,\n",
       "              gamma=None, grow_policy=None, importance_type=None,\n",
       "              interaction_constraints=None, learning_rate=0.001, max_bin=None,\n",
       "              max_cat_threshold=None, max_cat_to_onehot=None,\n",
       "              max_delta_step=None, max_depth=None, max_leaves=None,\n",
       "              min_child_weight=None, missing=nan, monotone_constraints=None,\n",
       "              multi_strategy=None, n_estimators=1000, n_jobs=None,\n",
       "              num_parallel_tree=None, random_state=None, ...)"
      ]
     },
     "execution_count": 18,
     "metadata": {},
     "output_type": "execute_result"
    }
   ],
   "source": [
    "XG_model = XGBClassifier(n_estimators = 1000 ,learning_rate=0.001 )\n",
    "XG_model.fit(X_train , y_train ,verbose=False, early_stopping_rounds=5 , eval_set=[(X_test , y_test)])"
   ]
  },
  {
   "cell_type": "code",
   "execution_count": 19,
   "id": "97e27a02",
   "metadata": {
    "execution": {
     "iopub.execute_input": "2023-12-13T23:18:56.054548Z",
     "iopub.status.busy": "2023-12-13T23:18:56.054217Z",
     "iopub.status.idle": "2023-12-13T23:18:56.069752Z",
     "shell.execute_reply": "2023-12-13T23:18:56.068928Z"
    },
    "papermill": {
     "duration": 0.031986,
     "end_time": "2023-12-13T23:18:56.071710",
     "exception": false,
     "start_time": "2023-12-13T23:18:56.039724",
     "status": "completed"
    },
    "tags": []
   },
   "outputs": [
    {
     "data": {
      "text/plain": [
       "0.9196185286103542"
      ]
     },
     "execution_count": 19,
     "metadata": {},
     "output_type": "execute_result"
    }
   ],
   "source": [
    "XG_model.score(X_train , y_train)"
   ]
  },
  {
   "cell_type": "code",
   "execution_count": 20,
   "id": "ee82ee02",
   "metadata": {
    "execution": {
     "iopub.execute_input": "2023-12-13T23:18:56.101649Z",
     "iopub.status.busy": "2023-12-13T23:18:56.100930Z",
     "iopub.status.idle": "2023-12-13T23:18:56.112103Z",
     "shell.execute_reply": "2023-12-13T23:18:56.111407Z"
    },
    "papermill": {
     "duration": 0.027579,
     "end_time": "2023-12-13T23:18:56.114039",
     "exception": false,
     "start_time": "2023-12-13T23:18:56.086460",
     "status": "completed"
    },
    "tags": []
   },
   "outputs": [
    {
     "data": {
      "text/plain": [
       "0.875"
      ]
     },
     "execution_count": 20,
     "metadata": {},
     "output_type": "execute_result"
    }
   ],
   "source": [
    "XG_model.score(X_test , y_test)"
   ]
  },
  {
   "cell_type": "markdown",
   "id": "0fa049e9",
   "metadata": {
    "papermill": {
     "duration": 0.01397,
     "end_time": "2023-12-13T23:18:56.142817",
     "exception": false,
     "start_time": "2023-12-13T23:18:56.128847",
     "status": "completed"
    },
    "tags": []
   },
   "source": [
    "## **Voting Classifier Model**"
   ]
  },
  {
   "cell_type": "code",
   "execution_count": 21,
   "id": "de9bf00f",
   "metadata": {
    "execution": {
     "iopub.execute_input": "2023-12-13T23:18:56.171525Z",
     "iopub.status.busy": "2023-12-13T23:18:56.171166Z",
     "iopub.status.idle": "2023-12-13T23:18:56.217007Z",
     "shell.execute_reply": "2023-12-13T23:18:56.216135Z"
    },
    "papermill": {
     "duration": 0.062789,
     "end_time": "2023-12-13T23:18:56.219080",
     "exception": false,
     "start_time": "2023-12-13T23:18:56.156291",
     "status": "completed"
    },
    "tags": []
   },
   "outputs": [
    {
     "data": {
      "text/html": [
       "<style>#sk-container-id-2 {color: black;background-color: white;}#sk-container-id-2 pre{padding: 0;}#sk-container-id-2 div.sk-toggleable {background-color: white;}#sk-container-id-2 label.sk-toggleable__label {cursor: pointer;display: block;width: 100%;margin-bottom: 0;padding: 0.3em;box-sizing: border-box;text-align: center;}#sk-container-id-2 label.sk-toggleable__label-arrow:before {content: \"▸\";float: left;margin-right: 0.25em;color: #696969;}#sk-container-id-2 label.sk-toggleable__label-arrow:hover:before {color: black;}#sk-container-id-2 div.sk-estimator:hover label.sk-toggleable__label-arrow:before {color: black;}#sk-container-id-2 div.sk-toggleable__content {max-height: 0;max-width: 0;overflow: hidden;text-align: left;background-color: #f0f8ff;}#sk-container-id-2 div.sk-toggleable__content pre {margin: 0.2em;color: black;border-radius: 0.25em;background-color: #f0f8ff;}#sk-container-id-2 input.sk-toggleable__control:checked~div.sk-toggleable__content {max-height: 200px;max-width: 100%;overflow: auto;}#sk-container-id-2 input.sk-toggleable__control:checked~label.sk-toggleable__label-arrow:before {content: \"▾\";}#sk-container-id-2 div.sk-estimator input.sk-toggleable__control:checked~label.sk-toggleable__label {background-color: #d4ebff;}#sk-container-id-2 div.sk-label input.sk-toggleable__control:checked~label.sk-toggleable__label {background-color: #d4ebff;}#sk-container-id-2 input.sk-hidden--visually {border: 0;clip: rect(1px 1px 1px 1px);clip: rect(1px, 1px, 1px, 1px);height: 1px;margin: -1px;overflow: hidden;padding: 0;position: absolute;width: 1px;}#sk-container-id-2 div.sk-estimator {font-family: monospace;background-color: #f0f8ff;border: 1px dotted black;border-radius: 0.25em;box-sizing: border-box;margin-bottom: 0.5em;}#sk-container-id-2 div.sk-estimator:hover {background-color: #d4ebff;}#sk-container-id-2 div.sk-parallel-item::after {content: \"\";width: 100%;border-bottom: 1px solid gray;flex-grow: 1;}#sk-container-id-2 div.sk-label:hover label.sk-toggleable__label {background-color: #d4ebff;}#sk-container-id-2 div.sk-serial::before {content: \"\";position: absolute;border-left: 1px solid gray;box-sizing: border-box;top: 0;bottom: 0;left: 50%;z-index: 0;}#sk-container-id-2 div.sk-serial {display: flex;flex-direction: column;align-items: center;background-color: white;padding-right: 0.2em;padding-left: 0.2em;position: relative;}#sk-container-id-2 div.sk-item {position: relative;z-index: 1;}#sk-container-id-2 div.sk-parallel {display: flex;align-items: stretch;justify-content: center;background-color: white;position: relative;}#sk-container-id-2 div.sk-item::before, #sk-container-id-2 div.sk-parallel-item::before {content: \"\";position: absolute;border-left: 1px solid gray;box-sizing: border-box;top: 0;bottom: 0;left: 50%;z-index: -1;}#sk-container-id-2 div.sk-parallel-item {display: flex;flex-direction: column;z-index: 1;position: relative;background-color: white;}#sk-container-id-2 div.sk-parallel-item:first-child::after {align-self: flex-end;width: 50%;}#sk-container-id-2 div.sk-parallel-item:last-child::after {align-self: flex-start;width: 50%;}#sk-container-id-2 div.sk-parallel-item:only-child::after {width: 0;}#sk-container-id-2 div.sk-dashed-wrapped {border: 1px dashed gray;margin: 0 0.4em 0.5em 0.4em;box-sizing: border-box;padding-bottom: 0.4em;background-color: white;}#sk-container-id-2 div.sk-label label {font-family: monospace;font-weight: bold;display: inline-block;line-height: 1.2em;}#sk-container-id-2 div.sk-label-container {text-align: center;}#sk-container-id-2 div.sk-container {/* jupyter's `normalize.less` sets `[hidden] { display: none; }` but bootstrap.min.css set `[hidden] { display: none !important; }` so we also need the `!important` here to be able to override the default hidden behavior on the sphinx rendered scikit-learn.org. See: https://github.com/scikit-learn/scikit-learn/issues/21755 */display: inline-block !important;position: relative;}#sk-container-id-2 div.sk-text-repr-fallback {display: none;}</style><div id=\"sk-container-id-2\" class=\"sk-top-container\"><div class=\"sk-text-repr-fallback\"><pre>VotingClassifier(estimators=[(&#x27;LR&#x27;, LogisticRegression()),\n",
       "                             (&#x27;SVC&#x27;, SVC(C=5, gamma=&#x27;auto&#x27;)),\n",
       "                             (&#x27;DTC&#x27;, DecisionTreeClassifier())])</pre><b>In a Jupyter environment, please rerun this cell to show the HTML representation or trust the notebook. <br />On GitHub, the HTML representation is unable to render, please try loading this page with nbviewer.org.</b></div><div class=\"sk-container\" hidden><div class=\"sk-item sk-dashed-wrapped\"><div class=\"sk-label-container\"><div class=\"sk-label sk-toggleable\"><input class=\"sk-toggleable__control sk-hidden--visually\" id=\"sk-estimator-id-2\" type=\"checkbox\" ><label for=\"sk-estimator-id-2\" class=\"sk-toggleable__label sk-toggleable__label-arrow\">VotingClassifier</label><div class=\"sk-toggleable__content\"><pre>VotingClassifier(estimators=[(&#x27;LR&#x27;, LogisticRegression()),\n",
       "                             (&#x27;SVC&#x27;, SVC(C=5, gamma=&#x27;auto&#x27;)),\n",
       "                             (&#x27;DTC&#x27;, DecisionTreeClassifier())])</pre></div></div></div><div class=\"sk-parallel\"><div class=\"sk-parallel-item\"><div class=\"sk-item\"><div class=\"sk-label-container\"><div class=\"sk-label sk-toggleable\"><label>LR</label></div></div><div class=\"sk-serial\"><div class=\"sk-item\"><div class=\"sk-estimator sk-toggleable\"><input class=\"sk-toggleable__control sk-hidden--visually\" id=\"sk-estimator-id-3\" type=\"checkbox\" ><label for=\"sk-estimator-id-3\" class=\"sk-toggleable__label sk-toggleable__label-arrow\">LogisticRegression</label><div class=\"sk-toggleable__content\"><pre>LogisticRegression()</pre></div></div></div></div></div></div><div class=\"sk-parallel-item\"><div class=\"sk-item\"><div class=\"sk-label-container\"><div class=\"sk-label sk-toggleable\"><label>SVC</label></div></div><div class=\"sk-serial\"><div class=\"sk-item\"><div class=\"sk-estimator sk-toggleable\"><input class=\"sk-toggleable__control sk-hidden--visually\" id=\"sk-estimator-id-4\" type=\"checkbox\" ><label for=\"sk-estimator-id-4\" class=\"sk-toggleable__label sk-toggleable__label-arrow\">SVC</label><div class=\"sk-toggleable__content\"><pre>SVC(C=5, gamma=&#x27;auto&#x27;)</pre></div></div></div></div></div></div><div class=\"sk-parallel-item\"><div class=\"sk-item\"><div class=\"sk-label-container\"><div class=\"sk-label sk-toggleable\"><label>DTC</label></div></div><div class=\"sk-serial\"><div class=\"sk-item\"><div class=\"sk-estimator sk-toggleable\"><input class=\"sk-toggleable__control sk-hidden--visually\" id=\"sk-estimator-id-5\" type=\"checkbox\" ><label for=\"sk-estimator-id-5\" class=\"sk-toggleable__label sk-toggleable__label-arrow\">DecisionTreeClassifier</label><div class=\"sk-toggleable__content\"><pre>DecisionTreeClassifier()</pre></div></div></div></div></div></div></div></div></div></div>"
      ],
      "text/plain": [
       "VotingClassifier(estimators=[('LR', LogisticRegression()),\n",
       "                             ('SVC', SVC(C=5, gamma='auto')),\n",
       "                             ('DTC', DecisionTreeClassifier())])"
      ]
     },
     "execution_count": 21,
     "metadata": {},
     "output_type": "execute_result"
    }
   ],
   "source": [
    "estimator = []\n",
    "estimator.append(('LR' , LogisticRegression()))\n",
    "estimator.append(('SVC' , SVC(gamma = 'auto' , C=5)))\n",
    "estimator.append(('DTC' , DecisionTreeClassifier()))\n",
    "\n",
    "VOT_model = VotingClassifier(estimators= estimator , voting='hard')\n",
    "VOT_model.fit(X_train , y_train)"
   ]
  },
  {
   "cell_type": "code",
   "execution_count": 22,
   "id": "5df27ce1",
   "metadata": {
    "execution": {
     "iopub.execute_input": "2023-12-13T23:18:56.251077Z",
     "iopub.status.busy": "2023-12-13T23:18:56.250405Z",
     "iopub.status.idle": "2023-12-13T23:18:56.277116Z",
     "shell.execute_reply": "2023-12-13T23:18:56.276252Z"
    },
    "papermill": {
     "duration": 0.044987,
     "end_time": "2023-12-13T23:18:56.279043",
     "exception": false,
     "start_time": "2023-12-13T23:18:56.234056",
     "status": "completed"
    },
    "tags": []
   },
   "outputs": [
    {
     "data": {
      "text/plain": [
       "0.94141689373297"
      ]
     },
     "execution_count": 22,
     "metadata": {},
     "output_type": "execute_result"
    }
   ],
   "source": [
    "VOT_model.score(X_train , y_train)"
   ]
  },
  {
   "cell_type": "code",
   "execution_count": 23,
   "id": "7863b7c4",
   "metadata": {
    "execution": {
     "iopub.execute_input": "2023-12-13T23:18:56.311659Z",
     "iopub.status.busy": "2023-12-13T23:18:56.311307Z",
     "iopub.status.idle": "2023-12-13T23:18:56.324361Z",
     "shell.execute_reply": "2023-12-13T23:18:56.323394Z"
    },
    "papermill": {
     "duration": 0.031156,
     "end_time": "2023-12-13T23:18:56.326653",
     "exception": false,
     "start_time": "2023-12-13T23:18:56.295497",
     "status": "completed"
    },
    "tags": []
   },
   "outputs": [
    {
     "data": {
      "text/plain": [
       "0.8641304347826086"
      ]
     },
     "execution_count": 23,
     "metadata": {},
     "output_type": "execute_result"
    }
   ],
   "source": [
    "VOT_model.score(X_test , y_test)"
   ]
  },
  {
   "cell_type": "markdown",
   "id": "44e0d491",
   "metadata": {
    "papermill": {
     "duration": 0.013828,
     "end_time": "2023-12-13T23:18:56.356102",
     "exception": false,
     "start_time": "2023-12-13T23:18:56.342274",
     "status": "completed"
    },
    "tags": []
   },
   "source": [
    "## **Lazy Classifier Model**"
   ]
  },
  {
   "cell_type": "code",
   "execution_count": 24,
   "id": "31d72e70",
   "metadata": {
    "_kg_hide-output": true,
    "execution": {
     "iopub.execute_input": "2023-12-13T23:18:56.386142Z",
     "iopub.status.busy": "2023-12-13T23:18:56.385424Z",
     "iopub.status.idle": "2023-12-13T23:18:57.880837Z",
     "shell.execute_reply": "2023-12-13T23:18:57.880083Z"
    },
    "papermill": {
     "duration": 1.512733,
     "end_time": "2023-12-13T23:18:57.882907",
     "exception": false,
     "start_time": "2023-12-13T23:18:56.370174",
     "status": "completed"
    },
    "tags": []
   },
   "outputs": [
    {
     "name": "stderr",
     "output_type": "stream",
     "text": [
      " 14%|█▍        | 4/29 [00:00<00:01, 13.83it/s]"
     ]
    },
    {
     "name": "stdout",
     "output_type": "stream",
     "text": [
      "{'Model': 'AdaBoostClassifier', 'Accuracy': 0.8532608695652174, 'Balanced Accuracy': 0.8574462920257313, 'ROC AUC': 0.8574462920257312, 'F1 Score': 0.8540908469900917, 'Time taken': 0.13939595222473145}\n",
      "{'Model': 'BaggingClassifier', 'Accuracy': 0.8641304347826086, 'Balanced Accuracy': 0.8704333050127442, 'ROC AUC': 0.8704333050127443, 'F1 Score': 0.8649782251731277, 'Time taken': 0.04958486557006836}\n",
      "{'Model': 'BernoulliNB', 'Accuracy': 0.8097826086956522, 'Balanced Accuracy': 0.8164218958611482, 'ROC AUC': 0.8164218958611482, 'F1 Score': 0.8110349709406625, 'Time taken': 0.01333475112915039}\n",
      "{'Model': 'CalibratedClassifierCV', 'Accuracy': 0.8315217391304348, 'Balanced Accuracy': 0.8369340939434398, 'ROC AUC': 0.8369340939434396, 'F1 Score': 0.8325729992146783, 'Time taken': 0.10552096366882324}\n",
      "{'Model': 'DecisionTreeClassifier', 'Accuracy': 0.7934782608695652, 'Balanced Accuracy': 0.7987619856778736, 'ROC AUC': 0.7987619856778736, 'F1 Score': 0.7948085929598723, 'Time taken': 0.014029741287231445}\n",
      "{'Model': 'DummyClassifier', 'Accuracy': 0.5815217391304348, 'Balanced Accuracy': 0.5, 'ROC AUC': 0.5, 'F1 Score': 0.4276482892574332, 'Time taken': 0.012612581253051758}\n",
      "{'Model': 'ExtraTreeClassifier', 'Accuracy': 0.7989130434782609, 'Balanced Accuracy': 0.8016142735768904, 'ROC AUC': 0.8016142735768904, 'F1 Score': 0.8000504199493849, 'Time taken': 0.013052701950073242}\n"
     ]
    },
    {
     "name": "stderr",
     "output_type": "stream",
     "text": [
      " 45%|████▍     | 13/29 [00:00<00:00, 19.76it/s]"
     ]
    },
    {
     "name": "stdout",
     "output_type": "stream",
     "text": [
      "{'Model': 'ExtraTreesClassifier', 'Accuracy': 0.8913043478260869, 'Balanced Accuracy': 0.8919771816968078, 'ROC AUC': 0.8919771816968078, 'F1 Score': 0.8916450454700316, 'Time taken': 0.19755983352661133}\n",
      "{'Model': 'GaussianNB', 'Accuracy': 0.8097826086956522, 'Balanced Accuracy': 0.8164218958611482, 'ROC AUC': 0.8164218958611482, 'F1 Score': 0.8110349709406625, 'Time taken': 0.012499332427978516}\n",
      "{'Model': 'KNeighborsClassifier', 'Accuracy': 0.8641304347826086, 'Balanced Accuracy': 0.8667920864182546, 'ROC AUC': 0.8667920864182546, 'F1 Score': 0.8647868094938039, 'Time taken': 0.024851560592651367}\n",
      "{'Model': 'LabelPropagation', 'Accuracy': 0.842391304347826, 'Balanced Accuracy': 0.8499211069304526, 'ROC AUC': 0.8499211069304526, 'F1 Score': 0.8434289759222632, 'Time taken': 0.047899484634399414}\n",
      "{'Model': 'LabelSpreading', 'Accuracy': 0.842391304347826, 'Balanced Accuracy': 0.8499211069304526, 'ROC AUC': 0.8499211069304526, 'F1 Score': 0.8434289759222632, 'Time taken': 0.0821845531463623}\n"
     ]
    },
    {
     "name": "stderr",
     "output_type": "stream",
     "text": [
      " 69%|██████▉   | 20/29 [00:00<00:00, 26.56it/s]"
     ]
    },
    {
     "name": "stdout",
     "output_type": "stream",
     "text": [
      "{'Model': 'LinearDiscriminantAnalysis', 'Accuracy': 0.8260869565217391, 'Balanced Accuracy': 0.832261196747178, 'ROC AUC': 0.832261196747178, 'F1 Score': 0.8272072361767344, 'Time taken': 0.03638958930969238}\n",
      "{'Model': 'LinearSVC', 'Accuracy': 0.8260869565217391, 'Balanced Accuracy': 0.8340818060444228, 'ROC AUC': 0.8340818060444228, 'F1 Score': 0.8272463768115942, 'Time taken': 0.07140588760375977}\n",
      "{'Model': 'LogisticRegression', 'Accuracy': 0.8369565217391305, 'Balanced Accuracy': 0.8434276004369462, 'ROC AUC': 0.8434276004369461, 'F1 Score': 0.8380067839156886, 'Time taken': 0.01910853385925293}\n",
      "{'Model': 'NearestCentroid', 'Accuracy': 0.8097826086956522, 'Balanced Accuracy': 0.8218837237528827, 'ROC AUC': 0.8218837237528825, 'F1 Score': 0.8109610712651678, 'Time taken': 0.019010066986083984}\n",
      "{'Model': 'NuSVC', 'Accuracy': 0.8586956521739131, 'Balanced Accuracy': 0.8548367520330138, 'ROC AUC': 0.8548367520330137, 'F1 Score': 0.8586956521739131, 'Time taken': 0.03540182113647461}\n",
      "{'Model': 'PassiveAggressiveClassifier', 'Accuracy': 0.7554347826086957, 'Balanced Accuracy': 0.7387425658453696, 'ROC AUC': 0.7387425658453696, 'F1 Score': 0.7520066889632107, 'Time taken': 0.014858007431030273}\n",
      "{'Model': 'Perceptron', 'Accuracy': 0.7608695652173914, 'Balanced Accuracy': 0.7634421653113241, 'ROC AUC': 0.7634421653113243, 'F1 Score': 0.7622990871852453, 'Time taken': 0.015144824981689453}\n",
      "{'Model': 'QuadraticDiscriminantAnalysis', 'Accuracy': 0.842391304347826, 'Balanced Accuracy': 0.8426386697414734, 'ROC AUC': 0.8426386697414734, 'F1 Score': 0.8429841570142075, 'Time taken': 0.022327423095703125}\n"
     ]
    },
    {
     "name": "stderr",
     "output_type": "stream",
     "text": [
      " 97%|█████████▋| 28/29 [00:01<00:00, 22.91it/s]"
     ]
    },
    {
     "name": "stdout",
     "output_type": "stream",
     "text": [
      "{'Model': 'RandomForestClassifier', 'Accuracy': 0.8804347826086957, 'Balanced Accuracy': 0.87716955941255, 'ROC AUC': 0.8771695594125501, 'F1 Score': 0.8804347826086957, 'Time taken': 0.2745499610900879}\n",
      "{'Model': 'RidgeClassifier', 'Accuracy': 0.8260869565217391, 'Balanced Accuracy': 0.832261196747178, 'ROC AUC': 0.832261196747178, 'F1 Score': 0.8272072361767344, 'Time taken': 0.020773649215698242}\n",
      "{'Model': 'RidgeClassifierCV', 'Accuracy': 0.8260869565217391, 'Balanced Accuracy': 0.832261196747178, 'ROC AUC': 0.832261196747178, 'F1 Score': 0.8272072361767344, 'Time taken': 0.015076398849487305}\n",
      "{'Model': 'SGDClassifier', 'Accuracy': 0.8097826086956522, 'Balanced Accuracy': 0.8218837237528827, 'ROC AUC': 0.8218837237528825, 'F1 Score': 0.8109610712651678, 'Time taken': 0.014495849609375}\n",
      "{'Model': 'SVC', 'Accuracy': 0.8586956521739131, 'Balanced Accuracy': 0.8584779706275033, 'ROC AUC': 0.8584779706275034, 'F1 Score': 0.8591385591110412, 'Time taken': 0.025335073471069336}\n",
      "{'Model': 'XGBClassifier', 'Accuracy': 0.8695652173913043, 'Balanced Accuracy': 0.8732855929117611, 'ROC AUC': 0.8732855929117611, 'F1 Score': 0.8702531150821567, 'Time taken': 0.06284427642822266}\n"
     ]
    },
    {
     "name": "stderr",
     "output_type": "stream",
     "text": [
      "100%|██████████| 29/29 [00:01<00:00, 19.56it/s]"
     ]
    },
    {
     "name": "stdout",
     "output_type": "stream",
     "text": [
      "{'Model': 'LGBMClassifier', 'Accuracy': 0.8369565217391305, 'Balanced Accuracy': 0.8434276004369462, 'ROC AUC': 0.8434276004369461, 'F1 Score': 0.8380067839156886, 'Time taken': 0.10529232025146484}\n"
     ]
    },
    {
     "name": "stderr",
     "output_type": "stream",
     "text": [
      "\n"
     ]
    }
   ],
   "source": [
    "clf = LazyClassifier(verbose=1)\n",
    "models , predictions = clf.fit(X_train , X_test , y_train , y_test)"
   ]
  },
  {
   "cell_type": "code",
   "execution_count": 25,
   "id": "ef9c96ea",
   "metadata": {
    "execution": {
     "iopub.execute_input": "2023-12-13T23:18:57.919204Z",
     "iopub.status.busy": "2023-12-13T23:18:57.918201Z",
     "iopub.status.idle": "2023-12-13T23:18:57.926171Z",
     "shell.execute_reply": "2023-12-13T23:18:57.925263Z"
    },
    "papermill": {
     "duration": 0.028488,
     "end_time": "2023-12-13T23:18:57.928397",
     "exception": false,
     "start_time": "2023-12-13T23:18:57.899909",
     "status": "completed"
    },
    "tags": []
   },
   "outputs": [
    {
     "name": "stdout",
     "output_type": "stream",
     "text": [
      "                               Accuracy  Balanced Accuracy  ROC AUC  F1 Score  \\\n",
      "Model                                                                           \n",
      "ExtraTreesClassifier               0.89               0.89     0.89      0.89   \n",
      "RandomForestClassifier             0.88               0.88     0.88      0.88   \n",
      "XGBClassifier                      0.87               0.87     0.87      0.87   \n",
      "BaggingClassifier                  0.86               0.87     0.87      0.86   \n",
      "KNeighborsClassifier               0.86               0.87     0.87      0.86   \n",
      "SVC                                0.86               0.86     0.86      0.86   \n",
      "AdaBoostClassifier                 0.85               0.86     0.86      0.85   \n",
      "NuSVC                              0.86               0.85     0.85      0.86   \n",
      "LabelSpreading                     0.84               0.85     0.85      0.84   \n",
      "LabelPropagation                   0.84               0.85     0.85      0.84   \n",
      "LogisticRegression                 0.84               0.84     0.84      0.84   \n",
      "LGBMClassifier                     0.84               0.84     0.84      0.84   \n",
      "QuadraticDiscriminantAnalysis      0.84               0.84     0.84      0.84   \n",
      "CalibratedClassifierCV             0.83               0.84     0.84      0.83   \n",
      "LinearSVC                          0.83               0.83     0.83      0.83   \n",
      "LinearDiscriminantAnalysis         0.83               0.83     0.83      0.83   \n",
      "RidgeClassifier                    0.83               0.83     0.83      0.83   \n",
      "RidgeClassifierCV                  0.83               0.83     0.83      0.83   \n",
      "NearestCentroid                    0.81               0.82     0.82      0.81   \n",
      "SGDClassifier                      0.81               0.82     0.82      0.81   \n",
      "GaussianNB                         0.81               0.82     0.82      0.81   \n",
      "BernoulliNB                        0.81               0.82     0.82      0.81   \n",
      "ExtraTreeClassifier                0.80               0.80     0.80      0.80   \n",
      "DecisionTreeClassifier             0.79               0.80     0.80      0.79   \n",
      "Perceptron                         0.76               0.76     0.76      0.76   \n",
      "PassiveAggressiveClassifier        0.76               0.74     0.74      0.75   \n",
      "DummyClassifier                    0.58               0.50     0.50      0.43   \n",
      "\n",
      "                               Time Taken  \n",
      "Model                                      \n",
      "ExtraTreesClassifier                 0.20  \n",
      "RandomForestClassifier               0.27  \n",
      "XGBClassifier                        0.06  \n",
      "BaggingClassifier                    0.05  \n",
      "KNeighborsClassifier                 0.02  \n",
      "SVC                                  0.03  \n",
      "AdaBoostClassifier                   0.14  \n",
      "NuSVC                                0.04  \n",
      "LabelSpreading                       0.08  \n",
      "LabelPropagation                     0.05  \n",
      "LogisticRegression                   0.02  \n",
      "LGBMClassifier                       0.11  \n",
      "QuadraticDiscriminantAnalysis        0.02  \n",
      "CalibratedClassifierCV               0.11  \n",
      "LinearSVC                            0.07  \n",
      "LinearDiscriminantAnalysis           0.04  \n",
      "RidgeClassifier                      0.02  \n",
      "RidgeClassifierCV                    0.02  \n",
      "NearestCentroid                      0.02  \n",
      "SGDClassifier                        0.01  \n",
      "GaussianNB                           0.01  \n",
      "BernoulliNB                          0.01  \n",
      "ExtraTreeClassifier                  0.01  \n",
      "DecisionTreeClassifier               0.01  \n",
      "Perceptron                           0.02  \n",
      "PassiveAggressiveClassifier          0.01  \n",
      "DummyClassifier                      0.01  \n"
     ]
    }
   ],
   "source": [
    "print(models)"
   ]
  },
  {
   "cell_type": "markdown",
   "id": "51e372eb",
   "metadata": {
    "papermill": {
     "duration": 0.015708,
     "end_time": "2023-12-13T23:18:57.960097",
     "exception": false,
     "start_time": "2023-12-13T23:18:57.944389",
     "status": "completed"
    },
    "tags": []
   },
   "source": [
    "## **Conclusion**"
   ]
  },
  {
   "cell_type": "markdown",
   "id": "75d8ff70",
   "metadata": {
    "papermill": {
     "duration": 0.01554,
     "end_time": "2023-12-13T23:18:57.991448",
     "exception": false,
     "start_time": "2023-12-13T23:18:57.975908",
     "status": "completed"
    },
    "tags": []
   },
   "source": [
    "* Best accuracy is 89% \n",
    "* I used various types of models ana automated models \n",
    "* Great dataset i enjoyed working in it"
   ]
  }
 ],
 "metadata": {
  "kaggle": {
   "accelerator": "gpu",
   "dataSources": [
    {
     "datasetId": 1582403,
     "sourceId": 2603715,
     "sourceType": "datasetVersion"
    }
   ],
   "dockerImageVersionId": 30627,
   "isGpuEnabled": true,
   "isInternetEnabled": true,
   "language": "python",
   "sourceType": "notebook"
  },
  "kernelspec": {
   "display_name": "Python 3",
   "language": "python",
   "name": "python3"
  },
  "language_info": {
   "codemirror_mode": {
    "name": "ipython",
    "version": 3
   },
   "file_extension": ".py",
   "mimetype": "text/x-python",
   "name": "python",
   "nbconvert_exporter": "python",
   "pygments_lexer": "ipython3",
   "version": "3.10.12"
  },
  "papermill": {
   "default_parameters": {},
   "duration": 30.599785,
   "end_time": "2023-12-13T23:19:00.250380",
   "environment_variables": {},
   "exception": null,
   "input_path": "__notebook__.ipynb",
   "output_path": "__notebook__.ipynb",
   "parameters": {},
   "start_time": "2023-12-13T23:18:29.650595",
   "version": "2.4.0"
  }
 },
 "nbformat": 4,
 "nbformat_minor": 5
}
